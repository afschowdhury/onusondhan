{
  "nbformat": 4,
  "nbformat_minor": 0,
  "metadata": {
    "colab": {
      "provenance": []
    },
    "kernelspec": {
      "name": "python3",
      "display_name": "Python 3"
    },
    "language_info": {
      "name": "python"
    }
  },
  "cells": [
    {
      "cell_type": "code",
      "execution_count": null,
      "metadata": {
        "id": "HeO__9kvs5vf"
      },
      "outputs": [],
      "source": [
        "!pip install transformers -q"
      ]
    },
    {
      "cell_type": "code",
      "source": [
        "model_location = \"/content/drive/MyDrive/DL_models/language_model_bn/xlm-roberta-large-squad2-test-1/afs_xlm_roberta\"\n"
      ],
      "metadata": {
        "id": "kks03pUJtFYN"
      },
      "execution_count": null,
      "outputs": []
    },
    {
      "cell_type": "code",
      "source": [
        "from transformers import  pipeline\n",
        "\n",
        "\n",
        "\n",
        "\n",
        "nlp = pipeline('question-answering', model=model_location, tokenizer=model_location)\n",
        "QA_input = {\n",
        "    'question': ' আপনার নাম কি ?',\n",
        "    'context': 'আমার নাম আসিফ ফয়সাল চৌধুরী। আমি ইসলামী বিশ্ববিদ্যালয়ে পড়ি। স্বাধীনতার পর এটিই প্রথম পাবলিক বিশ্ববিদ্যালয়। এটি কুষ্টিয়ায় অবস্থিত'\n",
        "}\n",
        "res = nlp(QA_input)\n",
        "res"
      ],
      "metadata": {
        "colab": {
          "base_uri": "https://localhost:8080/"
        },
        "id": "PDvqFjTptKVV",
        "outputId": "76039217-329a-4b0a-d7b3-bba7a22d31b9"
      },
      "execution_count": null,
      "outputs": [
        {
          "output_type": "execute_result",
          "data": {
            "text/plain": [
              "{'score': 0.9999871253967285,\n",
              " 'start': 8,\n",
              " 'end': 28,\n",
              " 'answer': ' আসিফ ফয়সাল চৌধুরী।'}"
            ]
          },
          "metadata": {},
          "execution_count": 7
        }
      ]
    },
    {
      "cell_type": "code",
      "source": [
        "from transformers import  pipeline\n",
        "\n",
        "\n",
        "\n",
        "\n",
        "nlp = pipeline('question-answering', model=model_location, tokenizer=model_location)\n",
        "QA_input = {\n",
        "    'question': ' আপনি কোথায় পড়েন  ?',\n",
        "    'context': 'আমার নাম আসিফ ফয়সাল চৌধুরী। আমি ইসলামী বিশ্ববিদ্যালয়ে পড়ি। স্বাধীনতার পর এটিই প্রথম পাবলিক বিশ্ববিদ্যালয়। এটি কুষ্টিয়ায় অবস্থিত'\n",
        "}\n",
        "res = nlp(QA_input)\n",
        "res"
      ],
      "metadata": {
        "colab": {
          "base_uri": "https://localhost:8080/"
        },
        "id": "adwll78iuweA",
        "outputId": "9c3542d4-8bae-46b8-f1d8-bb6621111c57"
      },
      "execution_count": null,
      "outputs": [
        {
          "output_type": "execute_result",
          "data": {
            "text/plain": [
              "{'score': 0.9996316432952881,\n",
              " 'start': 32,\n",
              " 'end': 55,\n",
              " 'answer': ' ইসলামী বিশ্ববিদ্যালয়ে'}"
            ]
          },
          "metadata": {},
          "execution_count": 4
        }
      ]
    },
    {
      "cell_type": "markdown",
      "source": [
        "## Inferencing on real time data\n",
        "\n",
        "The news article can be found [here](https://www.prothomalo.com/sports/57qxh4s2b4) and was posted in **Prothom Alo** on *22 September*"
      ],
      "metadata": {
        "id": "s9G7reH8ysfo"
      }
    },
    {
      "cell_type": "code",
      "source": [
        "context = \"সাফ চ্যাম্পিয়নশিপের ট্রফিটা কোলের ওপর রেখে ঢাকায় ফেরার বিমানের অপেক্ষা করছিলেন সানজিদা আক্তার। পাশের চেয়ারে কৃষ্ণা রানী সরকার, মাসুরা পারভীনরা তখন মুঠোফোনে ব্যস্ত। কিন্তু মুঠোফোনের স্ক্রিনে বেশিক্ষণ চোখ রাখতে পারছিলেন না কেউই। কাঠমান্ডুর ত্রিভুবন আন্তর্জাতিক বিমানবন্দরের ইমিগ্রেশন শেষে ঢাকাগামী বাংলাদেশি যাত্রীদের অভিনন্দন গ্রহণ করতেই বেশি ব্যস্ত হয়ে যেতে হলো। একটু পরপর ট্রফিসহ ফুটবলারদের সঙ্গে ছবি ও সেলফি তুলতে লাগলেন যাত্রীরা। শুধু বাংলাদেশিরাই নন, বিমানবন্দরে থাকা বিদেশি যাত্রীরাও সাফজয়ীদের সঙ্গে ছবি তুললেন। দলের সঙ্গে ঢাকায় এসেছেন বাংলাদেশ ফুটবল ফেডারেশনের মহিলা কমিটির চেয়ারম্যান মাহফুজা আক্তার। বিমানে ওঠার আগে মেয়েদের এক দফা কাছে ডেকে নেন এই কর্মকর্তা। গোল হয়ে দাঁড়িয়ে মাহফুজার কথাগুলো শোনেন সাবিনারা। ঢাকায় হজরত শাহজালাল আন্তর্জাতিক বিমানবন্দরে নামার পর আনুষ্ঠানিকতা কেমন হবে, ছাদখোলা বাসে কীভাবে মেয়েরা উঠবেন, কতটা শৃঙ্খলা বজায় রেখে ছাদে উঠতে হবে, সে পরামর্শ দিলেন। বাসে মেয়েদের পাশে যেন আর কেউ না দাঁড়াতে পারেন, বাংলাদেশ নারী ফুটবল দলের ম্যানেজার আমিরুল ইসলামকে সেটা তদারক করার নির্দেশ দেন মাহফুজা।দেশে ফেরার জন্য তর সইছিল না মারিয়া মান্দা, মণিকা চাকমাদেরও। ত্রিভুবন বিমানবন্দরের রানওয়ে থেকে বাংলাদেশ বিমানের বিজি ৩৭২ বোয়িং উড়োজাহাজটি নেপালের আকাশ ছুঁতেই মেয়েরা আনন্দে একসঙ্গে চিৎকার করে ওঠেন।\""
      ],
      "metadata": {
        "id": "8Ocex8-0u7Oa"
      },
      "execution_count": null,
      "outputs": []
    },
    {
      "cell_type": "code",
      "source": [
        "context"
      ],
      "metadata": {
        "colab": {
          "base_uri": "https://localhost:8080/",
          "height": 127
        },
        "id": "Jo6vXyg1v-k1",
        "outputId": "f2d1364d-ea07-449a-fd34-873201b20966"
      },
      "execution_count": null,
      "outputs": [
        {
          "output_type": "execute_result",
          "data": {
            "text/plain": [
              "'সাফ চ্যাম্পিয়নশিপের ট্রফিটা কোলের ওপর রেখে ঢাকায় ফেরার বিমানের অপেক্ষা করছিলেন সানজিদা আক্তার। পাশের চেয়ারে কৃষ্ণা রানী সরকার, মাসুরা পারভীনরা তখন মুঠোফোনে ব্যস্ত। কিন্তু মুঠোফোনের স্ক্রিনে বেশিক্ষণ চোখ রাখতে পারছিলেন না কেউই। কাঠমান্ডুর ত্রিভুবন আন্তর্জাতিক বিমানবন্দরের ইমিগ্রেশন শেষে ঢাকাগামী বাংলাদেশি যাত্রীদের অভিনন্দন গ্রহণ করতেই বেশি ব্যস্ত হয়ে যেতে হলো। একটু পরপর ট্রফিসহ ফুটবলারদের সঙ্গে ছবি ও সেলফি তুলতে লাগলেন যাত্রীরা। শুধু বাংলাদেশিরাই নন, বিমানবন্দরে থাকা বিদেশি যাত্রীরাও সাফজয়ীদের সঙ্গে ছবি তুললেন। দলের সঙ্গে ঢাকায় এসেছেন বাংলাদেশ ফুটবল ফেডারেশনের মহিলা কমিটির চেয়ারম্যান মাহফুজা আক্তার। বিমানে ওঠার আগে মেয়েদের এক দফা কাছে ডেকে নেন এই কর্মকর্তা। গোল হয়ে দাঁড়িয়ে মাহফুজার কথাগুলো শোনেন সাবিনারা। ঢাকায় হজরত শাহজালাল আন্তর্জাতিক বিমানবন্দরে নামার পর আনুষ্ঠানিকতা কেমন হবে, ছাদখোলা বাসে কীভাবে মেয়েরা উঠবেন, কতটা শৃঙ্খলা বজায় রেখে ছাদে উঠতে হবে, সে পরামর্শ দিলেন। বাসে মেয়েদের পাশে যেন আর কেউ না দাঁড়াতে পারেন, বাংলাদেশ নারী ফুটবল দলের ম্যানেজার আমিরুল ইসলামকে সেটা তদারক করার নির্দেশ দেন মাহফুজা।দেশে ফেরার জন্য তর সইছিল না মারিয়া মান্দা, মণিকা চাকমাদেরও। ত্রিভুবন বিমানবন্দরের রানওয়ে থেকে বাংলাদেশ বিমানের বিজি ৩৭২ বোয়িং উড়োজাহাজটি নেপালের আকাশ ছুঁতেই মেয়েরা আনন্দে একসঙ্গে চিৎকার করে ওঠেন।'"
            ],
            "application/vnd.google.colaboratory.intrinsic+json": {
              "type": "string"
            }
          },
          "metadata": {},
          "execution_count": 9
        }
      ]
    },
    {
      "cell_type": "code",
      "source": [
        "from transformers import  pipeline\n",
        "\n",
        "\n",
        "\n",
        "\n",
        "nlp = pipeline('question-answering',\n",
        "               model=model_location, tokenizer=model_location)\n",
        "QA_input = {\n",
        "    'question': '  বাংলাদেশ ফুটবল  ফেডারেশনের মহিলা কমিটির চেয়ারম্যান  কে ',\n",
        "    'context': context\n",
        "}\n",
        "res = nlp(QA_input)\n",
        "res"
      ],
      "metadata": {
        "colab": {
          "base_uri": "https://localhost:8080/"
        },
        "id": "Voa-07HtwAKd",
        "outputId": "34e3e37f-cefd-4343-d82e-0715ad1ab648"
      },
      "execution_count": null,
      "outputs": [
        {
          "output_type": "execute_result",
          "data": {
            "text/plain": [
              "{'score': 0.9999903440475464,\n",
              " 'start': 590,\n",
              " 'end': 606,\n",
              " 'answer': ' মাহফুজা আক্তার।'}"
            ]
          },
          "metadata": {},
          "execution_count": 10
        }
      ]
    },
    {
      "cell_type": "code",
      "source": [
        "from transformers import  pipeline\n",
        "\n",
        "\n",
        "\n",
        "\n",
        "nlp = pipeline('question-answering', model=model_location, tokenizer=model_location)\n",
        "QA_input = {\n",
        "    'question': ' কারা ফুটবলারদের সাথে সেলফি তুলতে লাগলেন ?',\n",
        "    'context': context\n",
        "}\n",
        "res = nlp(QA_input)\n",
        "res"
      ],
      "metadata": {
        "colab": {
          "base_uri": "https://localhost:8080/"
        },
        "id": "oNg-5Ar7wgjf",
        "outputId": "2c2d10f8-9ac8-469e-8bbb-305c6525f366"
      },
      "execution_count": null,
      "outputs": [
        {
          "output_type": "execute_result",
          "data": {
            "text/plain": [
              "{'score': 0.9748543500900269, 'start': 422, 'end': 432, 'answer': ' যাত্রীরা।'}"
            ]
          },
          "metadata": {},
          "execution_count": 11
        }
      ]
    },
    {
      "cell_type": "code",
      "source": [
        "nlp = pipeline('question-answering', model=model_location, \n",
        "               tokenizer=model_location)\n",
        "QA_input = {\n",
        "    'question': ' কে বিমানের অপেক্ষা করছিলেন  ?',\n",
        "    'context': context\n",
        "}\n",
        "res = nlp(QA_input)\n",
        "res"
      ],
      "metadata": {
        "colab": {
          "base_uri": "https://localhost:8080/"
        },
        "id": "g9p1HUriwqtp",
        "outputId": "95cfecfd-0bf0-4f6c-8838-31f475b262aa"
      },
      "execution_count": null,
      "outputs": [
        {
          "output_type": "execute_result",
          "data": {
            "text/plain": [
              "{'score': 0.9999933242797852,\n",
              " 'start': 78,\n",
              " 'end': 94,\n",
              " 'answer': ' সানজিদা আক্তার।'}"
            ]
          },
          "metadata": {},
          "execution_count": 12
        }
      ]
    },
    {
      "cell_type": "code",
      "source": [
        "nlp = pipeline('question-answering', model=model_location, \n",
        "               tokenizer=model_location)\n",
        "QA_input = {\n",
        "    'question': 'উড়োজাহাজটির নাম কি ছিল  ?',\n",
        "    'context': context\n",
        "}\n",
        "res = nlp(QA_input)\n",
        "res"
      ],
      "metadata": {
        "colab": {
          "base_uri": "https://localhost:8080/"
        },
        "id": "v_YPuKVrzxqy",
        "outputId": "c8651619-c025-41bb-f1cd-28b89c926c79"
      },
      "execution_count": null,
      "outputs": [
        {
          "output_type": "execute_result",
          "data": {
            "text/plain": [
              "{'score': 0.9745364785194397,\n",
              " 'start': 1124,\n",
              " 'end': 1139,\n",
              " 'answer': ' বিজি ৩৭২ বোয়িং'}"
            ]
          },
          "metadata": {},
          "execution_count": 13
        }
      ]
    },
    {
      "cell_type": "code",
      "source": [],
      "metadata": {
        "id": "SrnPM8QF0AkW"
      },
      "execution_count": null,
      "outputs": []
    }
  ]
}